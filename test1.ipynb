{
 "cells": [
  {
   "cell_type": "code",
   "execution_count": 6,
   "id": "fcee5542",
   "metadata": {},
   "outputs": [],
   "source": [
    "import pandas as pd\n",
    "import matplotlib.pyplot as plt\n",
    "import seaborn as sns\n",
    "crops_dataset = pd.read_csv(\"crops_dataset.csv\")\n"
   ]
  },
  {
   "cell_type": "code",
   "execution_count": null,
   "id": "e92630fb",
   "metadata": {},
   "outputs": [
    {
     "name": "stdout",
     "output_type": "stream",
     "text": [
      "  Crop Name  Growing Time (days)  Water Requirement (mm/week)  \\\n",
      "0    Almond                  240                           20   \n",
      "1    Banana                  270                           50   \n",
      "2  Cardamom                  180                           40   \n",
      "3    Cherry                  150                           25   \n",
      "4    Chilli                   90                           20   \n",
      "\n",
      "            Soil Type       Sunlight Best Planting Season  \\\n",
      "0  Well-drained Loamy       Full Sun               Winter   \n",
      "1               Loamy       Full Sun               Spring   \n",
      "2               Loamy  Partial Shade              Monsoon   \n",
      "3          Sandy Loam       Full Sun               Spring   \n",
      "4               Loamy       Full Sun               Spring   \n",
      "\n",
      "   Harvest Time (days)                 Fertilizer  \n",
      "0                  240               NPK 10-10-10  \n",
      "1                  270  Potassium-rich Fertilizer  \n",
      "2                  180            Compost and NPK  \n",
      "3                  150                  Bone Meal  \n",
      "4                   90                    Compost  \n"
     ]
    }
   ],
   "source": [
    "print(crops_dataset.head())"
   ]
  },
  {
   "cell_type": "code",
   "execution_count": 9,
   "id": "62ab9ee2",
   "metadata": {},
   "outputs": [
    {
     "name": "stdout",
     "output_type": "stream",
     "text": [
      "Crop Name                      0\n",
      "Growing Time (days)            0\n",
      "Water Requirement (mm/week)    0\n",
      "Soil Type                      0\n",
      "Sunlight                       0\n",
      "Best Planting Season           0\n",
      "Harvest Time (days)            0\n",
      "Fertilizer                     0\n",
      "dtype: int64\n"
     ]
    }
   ],
   "source": [
    "print(crops_dataset.isnull().sum())"
   ]
  },
  {
   "cell_type": "code",
   "execution_count": null,
   "id": "371e747a",
   "metadata": {},
   "outputs": [],
   "source": []
  }
 ],
 "metadata": {
  "kernelspec": {
   "display_name": "base",
   "language": "python",
   "name": "python3"
  },
  "language_info": {
   "codemirror_mode": {
    "name": "ipython",
    "version": 3
   },
   "file_extension": ".py",
   "mimetype": "text/x-python",
   "name": "python",
   "nbconvert_exporter": "python",
   "pygments_lexer": "ipython3",
   "version": "3.12.7"
  }
 },
 "nbformat": 4,
 "nbformat_minor": 5
}
