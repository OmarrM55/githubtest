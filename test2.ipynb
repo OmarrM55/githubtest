{
 "cells": [
  {
   "cell_type": "code",
   "execution_count": 2,
   "id": "fffac737",
   "metadata": {},
   "outputs": [],
   "source": [
    "import pandas as pd\n",
    "import matplotlib.pyplot as plt\n",
    "import seaborn as sns\n",
    "crops_diseases_dataset = pd.read_csv(\"crop_diseases_dataset.csv\")\n"
   ]
  },
  {
   "cell_type": "code",
   "execution_count": 4,
   "id": "c1392aec",
   "metadata": {},
   "outputs": [
    {
     "name": "stdout",
     "output_type": "stream",
     "text": [
      "                                         DiseaseName  \\\n",
      "0                                 Apple___Apple_scab   \n",
      "1                                  Apple___Black_rot   \n",
      "2                           Apple___Cedar_apple_rust   \n",
      "3           Cherry_(including_sour)___Powdery_mildew   \n",
      "4  Corn_(maize)___Cercospora_leaf_spot_Gray_leaf_...   \n",
      "\n",
      "                                      Cure/Treatment  \\\n",
      "0  Apply fungicides like sulfur or myclobutanil. ...   \n",
      "1  Apply fungicides like captan. Remove and destr...   \n",
      "2  Apply fungicides like triadimefon. Remove near...   \n",
      "3  Apply sulfur or potassium bicarbonate. Prune i...   \n",
      "4  Apply fungicides like azoxystrobin. Rotate crops.   \n",
      "\n",
      "            Fertilizer Recommendation  \\\n",
      "0  Balanced NPK fertilizer (10-10-10)   \n",
      "1  Potassium-rich fertilizer (0-0-50)   \n",
      "2             Calcium-rich fertilizer   \n",
      "3             Low-nitrogen fertilizer   \n",
      "4   Nitrogen-rich fertilizer (30-0-0)   \n",
      "\n",
      "                               Irrigation Guidelines  \\\n",
      "0    Avoid overhead irrigation; use drip irrigation.   \n",
      "1  Water deeply but infrequently to avoid waterlo...   \n",
      "2        Avoid overwatering; ensure proper drainage.   \n",
      "3     Water early in the day to allow leaves to dry.   \n",
      "4    Avoid overhead irrigation; use drip irrigation.   \n",
      "\n",
      "                                     Additional Info  \n",
      "0  Common in humid climates. Remove fallen leaves...  \n",
      "1  Common in warm, wet weather. Prune for better ...  \n",
      "2  Requires both apple and juniper plants to comp...  \n",
      "3  Thrives in high humidity and moderate temperat...  \n",
      "4  Common in warm, humid conditions. Remove crop ...  \n"
     ]
    }
   ],
   "source": [
    "print(crops_diseases_dataset.head())"
   ]
  },
  {
   "cell_type": "code",
   "execution_count": 5,
   "id": "4eadb88f",
   "metadata": {},
   "outputs": [
    {
     "name": "stdout",
     "output_type": "stream",
     "text": [
      "DiseaseName                  0\n",
      "Cure/Treatment               1\n",
      "Fertilizer Recommendation    0\n",
      "Irrigation Guidelines        0\n",
      "Additional Info              0\n",
      "dtype: int64\n"
     ]
    }
   ],
   "source": [
    "print(crops_diseases_dataset.isnull().sum())"
   ]
  }
 ],
 "metadata": {
  "kernelspec": {
   "display_name": "base",
   "language": "python",
   "name": "python3"
  },
  "language_info": {
   "codemirror_mode": {
    "name": "ipython",
    "version": 3
   },
   "file_extension": ".py",
   "mimetype": "text/x-python",
   "name": "python",
   "nbconvert_exporter": "python",
   "pygments_lexer": "ipython3",
   "version": "3.12.7"
  }
 },
 "nbformat": 4,
 "nbformat_minor": 5
}
